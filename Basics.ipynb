{
  "nbformat": 4,
  "nbformat_minor": 0,
  "metadata": {
    "colab": {
      "provenance": [],
      "authorship_tag": "ABX9TyMPAiPSK2G7VDdkjgfyHmKs",
      "include_colab_link": true
    },
    "kernelspec": {
      "name": "python3",
      "display_name": "Python 3"
    },
    "language_info": {
      "name": "python"
    }
  },
  "cells": [
    {
      "cell_type": "markdown",
      "metadata": {
        "id": "view-in-github",
        "colab_type": "text"
      },
      "source": [
        "<a href=\"https://colab.research.google.com/github/adityakr1108/Machine-Learning/blob/main/Basics.ipynb\" target=\"_parent\"><img src=\"https://colab.research.google.com/assets/colab-badge.svg\" alt=\"Open In Colab\"/></a>"
      ]
    },
    {
      "cell_type": "code",
      "execution_count": 1,
      "metadata": {
        "colab": {
          "base_uri": "https://localhost:8080/"
        },
        "id": "DV9SAD6w6WF_",
        "outputId": "1c219b44-24f5-4634-b152-2b8489621159"
      },
      "outputs": [
        {
          "output_type": "stream",
          "name": "stdout",
          "text": [
            "Hello\n"
          ]
        }
      ],
      "source": [
        "print(\"Hello\")"
      ]
    },
    {
      "cell_type": "code",
      "source": [],
      "metadata": {
        "id": "q6GSZKgZ7y9F"
      },
      "execution_count": null,
      "outputs": []
    },
    {
      "cell_type": "code",
      "source": [
        "import pandas as pd\n",
        "import numpy as np\n",
        "import os\n",
        "print(os.getcwd())\n",
        "df = pd.read_csv(r'/content/sample_data/Facebook-datasets.csv')\n",
        "print(df)\n",
        "\n",
        "\n",
        "\n"
      ],
      "metadata": {
        "colab": {
          "base_uri": "https://localhost:8080/"
        },
        "id": "spQUIRGQ7UbR",
        "outputId": "79d7754c-a067-460f-d095-a8fd71ff857e"
      },
      "execution_count": 6,
      "outputs": [
        {
          "output_type": "stream",
          "name": "stdout",
          "text": [
            "/content\n",
            "                                                   url  \\\n",
            "0    https://www.facebook.com/verizon/posts/pfbid0z...   \n",
            "1    https://www.facebook.com/verizon/posts/pfbid0z...   \n",
            "2    https://www.facebook.com/verizon/posts/pfbid0z...   \n",
            "3    https://www.facebook.com/reel/260478723678355?...   \n",
            "4    https://www.facebook.com/3newsgh/posts/pfbid02...   \n",
            "..                                                 ...   \n",
            "995  https://www.facebook.com/shanklinhvac/posts/pf...   \n",
            "996  https://www.facebook.com/iccwbo/posts/pfbid02G...   \n",
            "997  https://www.facebook.com/shanklinhvac/posts/pf...   \n",
            "998  https://www.facebook.com/verizon/posts/pfbid0z...   \n",
            "999  https://www.facebook.com/3newsgh/posts/pfbid0z...   \n",
            "\n",
            "                                               post_id  \\\n",
            "0    pfbid0zpLRka9my4ndgcCwHZeBMZ17jPM9gmzb6M5meVy9...   \n",
            "1    pfbid0zpLRka9my4ndgcCwHZeBMZ17jPM9gmzb6M5meVy9...   \n",
            "2    pfbid0zpLRka9my4ndgcCwHZeBMZ17jPM9gmzb6M5meVy9...   \n",
            "3                                      260478723678355   \n",
            "4    pfbid02dTZDs29765oxhxyV6s3Pmzeq2H8XPEeiCdaZiAj...   \n",
            "..                                                 ...   \n",
            "995  pfbid02erggVcAEKfoqcTgF2vyzMcLTduNML2Yg9MTzUJx...   \n",
            "996  pfbid02G2xUnYAtWJKsPPEAbqCD46MaDeqbpfHuUGR13Q8...   \n",
            "997  pfbid0UHgxHFjQpE2BujPcnV92vLb2dzihNi7n2eWHcfyg...   \n",
            "998  pfbid0zpLRka9my4ndgcCwHZeBMZ17jPM9gmzb6M5meVy9...   \n",
            "999  pfbid0zUzqAU3rXrvmbcefZhn9TZEohJDtrd9mnRh48Knd...   \n",
            "\n",
            "                                              post_url  \\\n",
            "0    https://www.facebook.com/verizon/posts/pfbid0z...   \n",
            "1    https://www.facebook.com/verizon/posts/pfbid0z...   \n",
            "2    https://www.facebook.com/verizon/posts/pfbid0z...   \n",
            "3    https://www.facebook.com/reel/260478723678355?...   \n",
            "4    https://www.facebook.com/3newsgh/posts/pfbid02...   \n",
            "..                                                 ...   \n",
            "995  https://www.facebook.com/shanklinhvac/posts/pf...   \n",
            "996  https://www.facebook.com/iccwbo/posts/pfbid02G...   \n",
            "997  https://www.facebook.com/shanklinhvac/posts/pf...   \n",
            "998  https://www.facebook.com/verizon/posts/pfbid0z...   \n",
            "999  https://www.facebook.com/3newsgh/posts/pfbid0z...   \n",
            "\n",
            "                                            comment_id  \\\n",
            "0    Y29tbWVudDozOTczNzM0OTkzNDQxNDNfOTA2NTc0NzI3Nj...   \n",
            "1    Y29tbWVudDozOTczNzM0OTkzNDQxNDNfMzE2MjYyOTc0Nz...   \n",
            "2    Y29tbWVudDozOTczNzM0OTkzNDQxNDNfOTE0MTkxMTI2Nz...   \n",
            "3    Y29tbWVudDo3NTY0MDE0ODY1MjY5MTJfMTA3NDgyMzY5Mz...   \n",
            "4    Y29tbWVudDo4NjcyMzM5MzU1NzMzMjNfNTUwNjE4MzI3Nz...   \n",
            "..                                                 ...   \n",
            "995  Y29tbWVudDoxMzIwMzA1NzYyNjA5MDU5XzUxMDMwNTUzMT...   \n",
            "996  Y29tbWVudDo5NTExNTc3MjcwNTE1MjFfODY4NTMwNzY3OD...   \n",
            "997  Y29tbWVudDoxMjU2MzAxNzcyMzQyNzkyXzg0NTQyMDE4MD...   \n",
            "998  Y29tbWVudDozOTczNzM0OTkzNDQxNDNfNDAwNTgwNzk5Mz...   \n",
            "999  Y29tbWVudDo4NjczOTk2MDg4OTAwODlfMTg2MTU5Njg3Nz...   \n",
            "\n",
            "                     user_name  \\\n",
            "0               Kat███Dav███on   \n",
            "1               Jam███McI███re   \n",
            "2                 Bub███Bug███   \n",
            "3                 Dan███uth███   \n",
            "4           Mus███Ali███nne███   \n",
            "..                         ...   \n",
            "995   Mar███ou ███wn █████████   \n",
            "996  Abu███ar ███ahi█████████d   \n",
            "997         Lat███a S███oma███   \n",
            "998         She███n M███nzi███   \n",
            "999   Bol███a M███du █████████   \n",
            "\n",
            "                                               user_id  \\\n",
            "0    pfbid02QbSc7Zs4wR67DWEXtcGGyDdP6MjktDUBe7MHb2b...   \n",
            "1    pfbid02DAD4uXif7L2ibVx7zZ4B8vbza7Tqrqzdn1kF3T1...   \n",
            "2    pfbid02DVKaLESKQqoYHcmo2HeMBuUs2JNK18KZDMa1hML...   \n",
            "3    pfbid0WfY4JxPXbR2Xp4tsUCaaVtwGqwArAbCEL3BM7QXS...   \n",
            "4                                      100004055062562   \n",
            "..                                                 ...   \n",
            "995  pfbid0BXxkT5vRCQpbu4UqoHNWByku1dUi67DHLbTBn5TH...   \n",
            "996                                    100028321385146   \n",
            "997  pfbid042YMD3nynfYbA4baKKXzzUem2Lj7Es8gjaksXgm3...   \n",
            "998  pfbid079PjhRzfL398vDGQ8r7WPbtbMEkQGrVEAMxyXJnG...   \n",
            "999                                    100004367173196   \n",
            "\n",
            "                                              user_url  \\\n",
            "0                                                  NaN   \n",
            "1                      https://www.facebook.com/JmyMck   \n",
            "2                                                  NaN   \n",
            "3               https://www.facebook.com/danrouthphoto   \n",
            "4             https://www.facebook.com/musahali.traore   \n",
            "..                                                 ...   \n",
            "995  https://www.facebook.com/people/Mary-Lou-Brown...   \n",
            "996                  https://www.facebook.com/ibngarko   \n",
            "997                                                NaN   \n",
            "998                                                NaN   \n",
            "999          https://www.facebook.com/bolnaba.nurudeen   \n",
            "\n",
            "                   date_created  \\\n",
            "0    \"2024-01-12T13:41:08.000Z\"   \n",
            "1    \"2024-01-19T22:33:51.000Z\"   \n",
            "2    \"2024-01-16T01:39:54.000Z\"   \n",
            "3    \"2024-02-06T02:46:19.000Z\"   \n",
            "4    \"2024-11-28T08:40:43.000Z\"   \n",
            "..                          ...   \n",
            "995  \"2024-10-04T01:16:16.000Z\"   \n",
            "996  \"2024-11-11T12:08:20.000Z\"   \n",
            "997  \"2024-07-10T18:26:11.000Z\"   \n",
            "998  \"2024-01-24T16:35:18.000Z\"   \n",
            "999  \"2024-11-28T14:45:54.000Z\"   \n",
            "\n",
            "                                          comment_text  num_likes  \\\n",
            "0                                            Joy House        NaN   \n",
            "1    Yet if a Verizon customer travels outside of t...        NaN   \n",
            "2          Where is the 5g we was promised 2 years ago        NaN   \n",
            "3    Your customer service may be the worst on eart...        NaN   \n",
            "4    And what does this picture suppose to mean? Th...        NaN   \n",
            "..                                                 ...        ...   \n",
            "995                     I see a couple of guys I know😉        NaN   \n",
            "996                                             Good 👍        NaN   \n",
            "997                           Happy Birthday to all 🎂🎉        NaN   \n",
            "998  I'm very dissatisfied with Verizon Fios. They ...        NaN   \n",
            "999                                        John Mahama        NaN   \n",
            "\n",
            "     num_replies attached_files  video_length       source_type  \\\n",
            "0            1.0            NaN           NaN  TextWithEntities   \n",
            "1            1.0            NaN           NaN  TextWithEntities   \n",
            "2            1.0            NaN           NaN  TextWithEntities   \n",
            "3            1.0            NaN           NaN  TextWithEntities   \n",
            "4            1.0            NaN           NaN  TextWithEntities   \n",
            "..           ...            ...           ...               ...   \n",
            "995          NaN            NaN           NaN  TextWithEntities   \n",
            "996          NaN            NaN           NaN  TextWithEntities   \n",
            "997          NaN            NaN           NaN  TextWithEntities   \n",
            "998          NaN            NaN           NaN  TextWithEntities   \n",
            "999          NaN            NaN           NaN  TextWithEntities   \n",
            "\n",
            "              subtype     type  \n",
            "0    TextWithEntities  Comment  \n",
            "1    TextWithEntities  Comment  \n",
            "2    TextWithEntities  Comment  \n",
            "3    TextWithEntities  Comment  \n",
            "4    TextWithEntities  Comment  \n",
            "..                ...      ...  \n",
            "995  TextWithEntities  Comment  \n",
            "996  TextWithEntities  Comment  \n",
            "997  TextWithEntities  Comment  \n",
            "998  TextWithEntities  Comment  \n",
            "999  TextWithEntities  Comment  \n",
            "\n",
            "[1000 rows x 16 columns]\n"
          ]
        }
      ]
    }
  ]
}